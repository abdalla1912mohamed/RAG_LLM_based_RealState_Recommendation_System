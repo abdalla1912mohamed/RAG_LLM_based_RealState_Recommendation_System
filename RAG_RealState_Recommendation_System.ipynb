{
  "nbformat": 4,
  "nbformat_minor": 0,
  "metadata": {
    "colab": {
      "provenance": [],
      "authorship_tag": "ABX9TyOezEzYRFqbhd5hp6Us48cN",
      "include_colab_link": true
    },
    "kernelspec": {
      "name": "python3",
      "display_name": "Python 3"
    },
    "language_info": {
      "name": "python"
    }
  },
  "cells": [
    {
      "cell_type": "markdown",
      "metadata": {
        "id": "view-in-github",
        "colab_type": "text"
      },
      "source": [
        "<a href=\"https://colab.research.google.com/github/abdalla1912mohamed/RAG_LLM_based_RealState_Recommendation_System/blob/main/RAG_RealState_Recommendation_System.ipynb\" target=\"_parent\"><img src=\"https://colab.research.google.com/assets/colab-badge.svg\" alt=\"Open In Colab\"/></a>"
      ]
    },
    {
      "cell_type": "markdown",
      "source": [
        "install pandas --> data Frame manipulation\n",
        "FAISS --> Facebook similarity Search\n",
        "Sentence-transformers --> embedding the chunks of data\n",
        "langchain --> PIPELINE prompt engineering the chains\n",
        "OPENAI --> the llm model\n",
        "HUgging_face --> llm and intergration\n",
        "streamlit --> interface"
      ],
      "metadata": {
        "id": "rSDvcFtCXA46"
      }
    },
    {
      "cell_type": "code",
      "source": [],
      "metadata": {
        "id": "jD6qsNiiXjsV"
      },
      "execution_count": null,
      "outputs": []
    },
    {
      "cell_type": "code",
      "execution_count": 1,
      "metadata": {
        "colab": {
          "base_uri": "https://localhost:8080/"
        },
        "id": "EvqfIa9iWyng",
        "outputId": "fa41bd09-5191-4f4a-88b3-ea672beb826b"
      },
      "outputs": [
        {
          "output_type": "stream",
          "name": "stdout",
          "text": [
            "Requirement already satisfied: pandas in /usr/local/lib/python3.10/dist-packages (2.2.2)\n",
            "Collecting faiss-cpu\n",
            "  Downloading faiss_cpu-1.9.0.post1-cp310-cp310-manylinux_2_17_x86_64.manylinux2014_x86_64.whl.metadata (4.4 kB)\n",
            "Requirement already satisfied: sentence-transformers in /usr/local/lib/python3.10/dist-packages (3.2.1)\n",
            "Requirement already satisfied: langchain in /usr/local/lib/python3.10/dist-packages (0.3.7)\n",
            "Requirement already satisfied: openai in /usr/local/lib/python3.10/dist-packages (1.54.4)\n",
            "Requirement already satisfied: huggingface-hub in /usr/local/lib/python3.10/dist-packages (0.26.2)\n",
            "Collecting streamlit\n",
            "  Downloading streamlit-1.40.2-py2.py3-none-any.whl.metadata (8.4 kB)\n",
            "Requirement already satisfied: numpy>=1.22.4 in /usr/local/lib/python3.10/dist-packages (from pandas) (1.26.4)\n",
            "Requirement already satisfied: python-dateutil>=2.8.2 in /usr/local/lib/python3.10/dist-packages (from pandas) (2.8.2)\n",
            "Requirement already satisfied: pytz>=2020.1 in /usr/local/lib/python3.10/dist-packages (from pandas) (2024.2)\n",
            "Requirement already satisfied: tzdata>=2022.7 in /usr/local/lib/python3.10/dist-packages (from pandas) (2024.2)\n",
            "Requirement already satisfied: packaging in /usr/local/lib/python3.10/dist-packages (from faiss-cpu) (24.2)\n",
            "Requirement already satisfied: transformers<5.0.0,>=4.41.0 in /usr/local/lib/python3.10/dist-packages (from sentence-transformers) (4.46.2)\n",
            "Requirement already satisfied: tqdm in /usr/local/lib/python3.10/dist-packages (from sentence-transformers) (4.66.6)\n",
            "Requirement already satisfied: torch>=1.11.0 in /usr/local/lib/python3.10/dist-packages (from sentence-transformers) (2.5.1+cu121)\n",
            "Requirement already satisfied: scikit-learn in /usr/local/lib/python3.10/dist-packages (from sentence-transformers) (1.5.2)\n",
            "Requirement already satisfied: scipy in /usr/local/lib/python3.10/dist-packages (from sentence-transformers) (1.13.1)\n",
            "Requirement already satisfied: Pillow in /usr/local/lib/python3.10/dist-packages (from sentence-transformers) (11.0.0)\n",
            "Requirement already satisfied: PyYAML>=5.3 in /usr/local/lib/python3.10/dist-packages (from langchain) (6.0.2)\n",
            "Requirement already satisfied: SQLAlchemy<3,>=1.4 in /usr/local/lib/python3.10/dist-packages (from langchain) (2.0.36)\n",
            "Requirement already satisfied: aiohttp<4.0.0,>=3.8.3 in /usr/local/lib/python3.10/dist-packages (from langchain) (3.11.2)\n",
            "Requirement already satisfied: async-timeout<5.0.0,>=4.0.0 in /usr/local/lib/python3.10/dist-packages (from langchain) (4.0.3)\n",
            "Requirement already satisfied: langchain-core<0.4.0,>=0.3.15 in /usr/local/lib/python3.10/dist-packages (from langchain) (0.3.19)\n",
            "Requirement already satisfied: langchain-text-splitters<0.4.0,>=0.3.0 in /usr/local/lib/python3.10/dist-packages (from langchain) (0.3.2)\n",
            "Requirement already satisfied: langsmith<0.2.0,>=0.1.17 in /usr/local/lib/python3.10/dist-packages (from langchain) (0.1.143)\n",
            "Requirement already satisfied: pydantic<3.0.0,>=2.7.4 in /usr/local/lib/python3.10/dist-packages (from langchain) (2.9.2)\n",
            "Requirement already satisfied: requests<3,>=2 in /usr/local/lib/python3.10/dist-packages (from langchain) (2.32.3)\n",
            "Requirement already satisfied: tenacity!=8.4.0,<10,>=8.1.0 in /usr/local/lib/python3.10/dist-packages (from langchain) (9.0.0)\n",
            "Requirement already satisfied: anyio<5,>=3.5.0 in /usr/local/lib/python3.10/dist-packages (from openai) (3.7.1)\n",
            "Requirement already satisfied: distro<2,>=1.7.0 in /usr/local/lib/python3.10/dist-packages (from openai) (1.9.0)\n",
            "Requirement already satisfied: httpx<1,>=0.23.0 in /usr/local/lib/python3.10/dist-packages (from openai) (0.27.2)\n",
            "Requirement already satisfied: jiter<1,>=0.4.0 in /usr/local/lib/python3.10/dist-packages (from openai) (0.7.1)\n",
            "Requirement already satisfied: sniffio in /usr/local/lib/python3.10/dist-packages (from openai) (1.3.1)\n",
            "Requirement already satisfied: typing-extensions<5,>=4.11 in /usr/local/lib/python3.10/dist-packages (from openai) (4.12.2)\n",
            "Requirement already satisfied: filelock in /usr/local/lib/python3.10/dist-packages (from huggingface-hub) (3.16.1)\n",
            "Requirement already satisfied: fsspec>=2023.5.0 in /usr/local/lib/python3.10/dist-packages (from huggingface-hub) (2024.10.0)\n",
            "Requirement already satisfied: altair<6,>=4.0 in /usr/local/lib/python3.10/dist-packages (from streamlit) (4.2.2)\n",
            "Requirement already satisfied: blinker<2,>=1.0.0 in /usr/local/lib/python3.10/dist-packages (from streamlit) (1.9.0)\n",
            "Requirement already satisfied: cachetools<6,>=4.0 in /usr/local/lib/python3.10/dist-packages (from streamlit) (5.5.0)\n",
            "Requirement already satisfied: click<9,>=7.0 in /usr/local/lib/python3.10/dist-packages (from streamlit) (8.1.7)\n",
            "Requirement already satisfied: protobuf<6,>=3.20 in /usr/local/lib/python3.10/dist-packages (from streamlit) (4.25.5)\n",
            "Requirement already satisfied: pyarrow>=7.0 in /usr/local/lib/python3.10/dist-packages (from streamlit) (17.0.0)\n",
            "Requirement already satisfied: rich<14,>=10.14.0 in /usr/local/lib/python3.10/dist-packages (from streamlit) (13.9.4)\n",
            "Requirement already satisfied: toml<2,>=0.10.1 in /usr/local/lib/python3.10/dist-packages (from streamlit) (0.10.2)\n",
            "Collecting watchdog<7,>=2.1.5 (from streamlit)\n",
            "  Downloading watchdog-6.0.0-py3-none-manylinux2014_x86_64.whl.metadata (44 kB)\n",
            "\u001b[2K     \u001b[90m━━━━━━━━━━━━━━━━━━━━━━━━━━━━━━━━━━━━━━━━\u001b[0m \u001b[32m44.3/44.3 kB\u001b[0m \u001b[31m3.3 MB/s\u001b[0m eta \u001b[36m0:00:00\u001b[0m\n",
            "\u001b[?25hRequirement already satisfied: gitpython!=3.1.19,<4,>=3.0.7 in /usr/local/lib/python3.10/dist-packages (from streamlit) (3.1.43)\n",
            "Collecting pydeck<1,>=0.8.0b4 (from streamlit)\n",
            "  Downloading pydeck-0.9.1-py2.py3-none-any.whl.metadata (4.1 kB)\n",
            "Requirement already satisfied: tornado<7,>=6.0.3 in /usr/local/lib/python3.10/dist-packages (from streamlit) (6.3.3)\n",
            "Requirement already satisfied: aiohappyeyeballs>=2.3.0 in /usr/local/lib/python3.10/dist-packages (from aiohttp<4.0.0,>=3.8.3->langchain) (2.4.3)\n",
            "Requirement already satisfied: aiosignal>=1.1.2 in /usr/local/lib/python3.10/dist-packages (from aiohttp<4.0.0,>=3.8.3->langchain) (1.3.1)\n",
            "Requirement already satisfied: attrs>=17.3.0 in /usr/local/lib/python3.10/dist-packages (from aiohttp<4.0.0,>=3.8.3->langchain) (24.2.0)\n",
            "Requirement already satisfied: frozenlist>=1.1.1 in /usr/local/lib/python3.10/dist-packages (from aiohttp<4.0.0,>=3.8.3->langchain) (1.5.0)\n",
            "Requirement already satisfied: multidict<7.0,>=4.5 in /usr/local/lib/python3.10/dist-packages (from aiohttp<4.0.0,>=3.8.3->langchain) (6.1.0)\n",
            "Requirement already satisfied: propcache>=0.2.0 in /usr/local/lib/python3.10/dist-packages (from aiohttp<4.0.0,>=3.8.3->langchain) (0.2.0)\n",
            "Requirement already satisfied: yarl<2.0,>=1.17.0 in /usr/local/lib/python3.10/dist-packages (from aiohttp<4.0.0,>=3.8.3->langchain) (1.17.2)\n",
            "Requirement already satisfied: entrypoints in /usr/local/lib/python3.10/dist-packages (from altair<6,>=4.0->streamlit) (0.4)\n",
            "Requirement already satisfied: jinja2 in /usr/local/lib/python3.10/dist-packages (from altair<6,>=4.0->streamlit) (3.1.4)\n",
            "Requirement already satisfied: jsonschema>=3.0 in /usr/local/lib/python3.10/dist-packages (from altair<6,>=4.0->streamlit) (4.23.0)\n",
            "Requirement already satisfied: toolz in /usr/local/lib/python3.10/dist-packages (from altair<6,>=4.0->streamlit) (0.12.1)\n",
            "Requirement already satisfied: idna>=2.8 in /usr/local/lib/python3.10/dist-packages (from anyio<5,>=3.5.0->openai) (3.10)\n",
            "Requirement already satisfied: exceptiongroup in /usr/local/lib/python3.10/dist-packages (from anyio<5,>=3.5.0->openai) (1.2.2)\n",
            "Requirement already satisfied: gitdb<5,>=4.0.1 in /usr/local/lib/python3.10/dist-packages (from gitpython!=3.1.19,<4,>=3.0.7->streamlit) (4.0.11)\n",
            "Requirement already satisfied: certifi in /usr/local/lib/python3.10/dist-packages (from httpx<1,>=0.23.0->openai) (2024.8.30)\n",
            "Requirement already satisfied: httpcore==1.* in /usr/local/lib/python3.10/dist-packages (from httpx<1,>=0.23.0->openai) (1.0.7)\n",
            "Requirement already satisfied: h11<0.15,>=0.13 in /usr/local/lib/python3.10/dist-packages (from httpcore==1.*->httpx<1,>=0.23.0->openai) (0.14.0)\n",
            "Requirement already satisfied: jsonpatch<2.0,>=1.33 in /usr/local/lib/python3.10/dist-packages (from langchain-core<0.4.0,>=0.3.15->langchain) (1.33)\n",
            "Requirement already satisfied: orjson<4.0.0,>=3.9.14 in /usr/local/lib/python3.10/dist-packages (from langsmith<0.2.0,>=0.1.17->langchain) (3.10.11)\n",
            "Requirement already satisfied: requests-toolbelt<2.0.0,>=1.0.0 in /usr/local/lib/python3.10/dist-packages (from langsmith<0.2.0,>=0.1.17->langchain) (1.0.0)\n",
            "Requirement already satisfied: annotated-types>=0.6.0 in /usr/local/lib/python3.10/dist-packages (from pydantic<3.0.0,>=2.7.4->langchain) (0.7.0)\n",
            "Requirement already satisfied: pydantic-core==2.23.4 in /usr/local/lib/python3.10/dist-packages (from pydantic<3.0.0,>=2.7.4->langchain) (2.23.4)\n",
            "Requirement already satisfied: six>=1.5 in /usr/local/lib/python3.10/dist-packages (from python-dateutil>=2.8.2->pandas) (1.16.0)\n",
            "Requirement already satisfied: charset-normalizer<4,>=2 in /usr/local/lib/python3.10/dist-packages (from requests<3,>=2->langchain) (3.4.0)\n",
            "Requirement already satisfied: urllib3<3,>=1.21.1 in /usr/local/lib/python3.10/dist-packages (from requests<3,>=2->langchain) (2.2.3)\n",
            "Requirement already satisfied: markdown-it-py>=2.2.0 in /usr/local/lib/python3.10/dist-packages (from rich<14,>=10.14.0->streamlit) (3.0.0)\n",
            "Requirement already satisfied: pygments<3.0.0,>=2.13.0 in /usr/local/lib/python3.10/dist-packages (from rich<14,>=10.14.0->streamlit) (2.18.0)\n",
            "Requirement already satisfied: greenlet!=0.4.17 in /usr/local/lib/python3.10/dist-packages (from SQLAlchemy<3,>=1.4->langchain) (3.1.1)\n",
            "Requirement already satisfied: networkx in /usr/local/lib/python3.10/dist-packages (from torch>=1.11.0->sentence-transformers) (3.4.2)\n",
            "Requirement already satisfied: sympy==1.13.1 in /usr/local/lib/python3.10/dist-packages (from torch>=1.11.0->sentence-transformers) (1.13.1)\n",
            "Requirement already satisfied: mpmath<1.4,>=1.1.0 in /usr/local/lib/python3.10/dist-packages (from sympy==1.13.1->torch>=1.11.0->sentence-transformers) (1.3.0)\n",
            "Requirement already satisfied: regex!=2019.12.17 in /usr/local/lib/python3.10/dist-packages (from transformers<5.0.0,>=4.41.0->sentence-transformers) (2024.9.11)\n",
            "Requirement already satisfied: safetensors>=0.4.1 in /usr/local/lib/python3.10/dist-packages (from transformers<5.0.0,>=4.41.0->sentence-transformers) (0.4.5)\n",
            "Requirement already satisfied: tokenizers<0.21,>=0.20 in /usr/local/lib/python3.10/dist-packages (from transformers<5.0.0,>=4.41.0->sentence-transformers) (0.20.3)\n",
            "Requirement already satisfied: joblib>=1.2.0 in /usr/local/lib/python3.10/dist-packages (from scikit-learn->sentence-transformers) (1.4.2)\n",
            "Requirement already satisfied: threadpoolctl>=3.1.0 in /usr/local/lib/python3.10/dist-packages (from scikit-learn->sentence-transformers) (3.5.0)\n",
            "Requirement already satisfied: smmap<6,>=3.0.1 in /usr/local/lib/python3.10/dist-packages (from gitdb<5,>=4.0.1->gitpython!=3.1.19,<4,>=3.0.7->streamlit) (5.0.1)\n",
            "Requirement already satisfied: MarkupSafe>=2.0 in /usr/local/lib/python3.10/dist-packages (from jinja2->altair<6,>=4.0->streamlit) (3.0.2)\n",
            "Requirement already satisfied: jsonpointer>=1.9 in /usr/local/lib/python3.10/dist-packages (from jsonpatch<2.0,>=1.33->langchain-core<0.4.0,>=0.3.15->langchain) (3.0.0)\n",
            "Requirement already satisfied: jsonschema-specifications>=2023.03.6 in /usr/local/lib/python3.10/dist-packages (from jsonschema>=3.0->altair<6,>=4.0->streamlit) (2024.10.1)\n",
            "Requirement already satisfied: referencing>=0.28.4 in /usr/local/lib/python3.10/dist-packages (from jsonschema>=3.0->altair<6,>=4.0->streamlit) (0.35.1)\n",
            "Requirement already satisfied: rpds-py>=0.7.1 in /usr/local/lib/python3.10/dist-packages (from jsonschema>=3.0->altair<6,>=4.0->streamlit) (0.21.0)\n",
            "Requirement already satisfied: mdurl~=0.1 in /usr/local/lib/python3.10/dist-packages (from markdown-it-py>=2.2.0->rich<14,>=10.14.0->streamlit) (0.1.2)\n",
            "Downloading faiss_cpu-1.9.0.post1-cp310-cp310-manylinux_2_17_x86_64.manylinux2014_x86_64.whl (27.5 MB)\n",
            "\u001b[2K   \u001b[90m━━━━━━━━━━━━━━━━━━━━━━━━━━━━━━━━━━━━━━━━\u001b[0m \u001b[32m27.5/27.5 MB\u001b[0m \u001b[31m31.7 MB/s\u001b[0m eta \u001b[36m0:00:00\u001b[0m\n",
            "\u001b[?25hDownloading streamlit-1.40.2-py2.py3-none-any.whl (8.6 MB)\n",
            "\u001b[2K   \u001b[90m━━━━━━━━━━━━━━━━━━━━━━━━━━━━━━━━━━━━━━━━\u001b[0m \u001b[32m8.6/8.6 MB\u001b[0m \u001b[31m42.3 MB/s\u001b[0m eta \u001b[36m0:00:00\u001b[0m\n",
            "\u001b[?25hDownloading pydeck-0.9.1-py2.py3-none-any.whl (6.9 MB)\n",
            "\u001b[2K   \u001b[90m━━━━━━━━━━━━━━━━━━━━━━━━━━━━━━━━━━━━━━━━\u001b[0m \u001b[32m6.9/6.9 MB\u001b[0m \u001b[31m43.9 MB/s\u001b[0m eta \u001b[36m0:00:00\u001b[0m\n",
            "\u001b[?25hDownloading watchdog-6.0.0-py3-none-manylinux2014_x86_64.whl (79 kB)\n",
            "\u001b[2K   \u001b[90m━━━━━━━━━━━━━━━━━━━━━━━━━━━━━━━━━━━━━━━━\u001b[0m \u001b[32m79.1/79.1 kB\u001b[0m \u001b[31m5.1 MB/s\u001b[0m eta \u001b[36m0:00:00\u001b[0m\n",
            "\u001b[?25hInstalling collected packages: watchdog, faiss-cpu, pydeck, streamlit\n",
            "Successfully installed faiss-cpu-1.9.0.post1 pydeck-0.9.1 streamlit-1.40.2 watchdog-6.0.0\n"
          ]
        }
      ],
      "source": [
        "!pip install pandas faiss-cpu sentence-transformers langchain openai huggingface-hub streamlit"
      ]
    },
    {
      "cell_type": "markdown",
      "source": [
        "**DATASET CREATION**\n",
        "-Creating a dummy dataset mimicking a real-state properties data\n",
        "**ATTRIBUTES**  \n",
        "- Description : string\n",
        "- Price : INT64\n",
        "- LOCATION : String\n",
        "- ADDRESS  :\n",
        "- Compound :\n",
        "- HAS garden : yes , no\n",
        "- House Size : INT64\n",
        "- n of bedrooms\n",
        "- n of bathrooms"
      ],
      "metadata": {
        "id": "JbgOteJ4eqVz"
      }
    },
    {
      "cell_type": "code",
      "source": [
        "import pandas as pd\n",
        "import numpy as np\n",
        "import seaborn as sns\n",
        "import random\n",
        "import matplotlib.pyplot as plt\n",
        "NUM_RECORDS = 1000\n",
        "locations = ['Obour', 'Madinaty', 'Rehab', 'fifth-settlement' , 'Nasr City' , 'Shorouk','El mostakbal city', 'EL Shiekh Zayed' ,  'El Sahel', ' EL GOUNA']\n",
        "companies = ['SODIC' , 'MIVIDA' , 'PALM HILLS' , \"Hassan ALLAM \" , \"E3mar\" , \"AZHA\" , \" AMWAJ\" , \" MARRASI \" , \"LOTUS\", \"BANAFSAG\" ]\n",
        "addresses = ['123', '456','111','222','333','444','555','666','777','888']\n",
        "descriptions = [\n",
        "    \"A cozy family home with modern design and great amenities.\",\n",
        "    \"Luxurious villa with stunning views and spacious interiors.\",\n",
        "    \"Affordable apartment in a prime location, close to schools and parks.\",\n",
        "    \"Spacious house with a large garden, perfect for families.\",\n",
        "    \"Modern condo with state-of-the-art facilities and security.\",\n",
        "    \"Contemporary apartment with easy access to transport hubs.\",\n",
        "    \"Charming townhouse in a quiet neighborhood with tree-lined streets.\",\n",
        "    \"Beachfront property with breathtaking ocean views.\",\n",
        "    \"Rustic cottage with a cozy interior and a large backyard.\",\n",
        "    \"Penthouse suite with a rooftop pool and panoramic city views.\"\n",
        "]\n",
        "\n",
        "streets = ['1','2','3','4','5','6','7','8','9','10']\n",
        "\n",
        "\n",
        "\n"
      ],
      "metadata": {
        "id": "pex9afL8XePB"
      },
      "execution_count": 20,
      "outputs": []
    },
    {
      "cell_type": "markdown",
      "source": [
        "RANDOM GENERATORS"
      ],
      "metadata": {
        "id": "msS97bNehwLT"
      }
    },
    {
      "cell_type": "code",
      "source": [
        "# Random functions for generating data\n",
        "def generate_price():\n",
        "    return round(random.uniform(100000, 2000000), 2)\n",
        "\n",
        "def generate_house_size():\n",
        "    return random.randint(800, 5000)\n",
        "\n",
        "def generate_num_bedrooms():\n",
        "    return random.randint(1, 7)\n",
        "\n",
        "def generate_num_bathrooms():\n",
        "    return random.randint(1, 5)\n",
        "\n",
        "def generate_garden():\n",
        "    return random.choice(['Yes', 'No'])"
      ],
      "metadata": {
        "id": "9LJpAM_SaX_a"
      },
      "execution_count": 21,
      "outputs": []
    },
    {
      "cell_type": "markdown",
      "source": [
        "DATASET_GENERATION"
      ],
      "metadata": {
        "id": "iFg6nVO5iJcP"
      }
    },
    {
      "cell_type": "code",
      "source": [
        "dataset = {\n",
        "    'Description': [random.choice(descriptions) for _ in range(NUM_RECORDS)],\n",
        "    'Price': [generate_price() for _ in range(NUM_RECORDS)],\n",
        "    'Address': [\n",
        "        f\"{random.choice(addresses)} {random.choice(streets)}\"\n",
        "        for _ in range(NUM_RECORDS)\n",
        "    ],\n",
        "    'Location': [random.choice(locations) for _ in range(NUM_RECORDS)],\n",
        "    'company ': [random.choice(companies) for _ in range(NUM_RECORDS)],\n",
        "    'Has Garden': [generate_garden() for _ in range(NUM_RECORDS)],\n",
        "    'House Size (m2)': [generate_house_size() for _ in range(NUM_RECORDS)],\n",
        "    'Number of Bedrooms': [generate_num_bedrooms() for _ in range(NUM_RECORDS)],\n",
        "    'Number of Bathrooms': [generate_num_bathrooms() for _ in range(NUM_RECORDS)],\n",
        "}\n",
        "\n",
        "df = pd.DataFrame(dataset)\n",
        "df.head()\n",
        "# Save the dataset to a CSV file\n",
        "file_name = \"real_estate_dataset.csv\"\n",
        "df.to_csv(file_name, index=False)\n",
        "\n",
        "print(f\"Dataset saved to {file_name}\")\n",
        "\n"
      ],
      "metadata": {
        "colab": {
          "base_uri": "https://localhost:8080/"
        },
        "id": "b38__nbwhzDc",
        "outputId": "3d783f1c-2359-4502-f7a6-87c7076043d1"
      },
      "execution_count": 23,
      "outputs": [
        {
          "output_type": "stream",
          "name": "stdout",
          "text": [
            "Dataset saved to real_estate_dataset.csv\n"
          ]
        }
      ]
    },
    {
      "cell_type": "markdown",
      "source": [
        "EMBEDDING THE DATASET info / Documents\n",
        "ADDING a new column concatenating the info and another column called embedding for embedding the database"
      ],
      "metadata": {
        "id": "VkvOZmSMiwbU"
      }
    },
    {
      "cell_type": "code",
      "source": [
        "from sentence_transformers import SentenceTransformer\n",
        "df['info'] = df.apply( lambda row :f\"{row['Description']} Location: {row['Location']} Address : {row['Address']} Company : {row['company ']} Garden : {row['Has Garden']} House Size (m2) : {row['House Size (m2)']} Price: {row['Price']} Bedrooms: {row['Number of Bedrooms']} Bathrooms: {row['Number of Bathrooms']} \" , axis = 1)\n",
        "print( df)\n",
        "embedding_model = SentenceTransformer('sentence-transformers/all-MiniLM-L6-v2')\n",
        "df['embedding']  = df['info'].apply(lambda x: embedding_model.encode(x))\n",
        "embeddings = df['embedding'].tolist()\n",
        "np.save('embeddings.npy', np.array(embeddings))\n",
        "print( \" embeddings are generated\")\n",
        "print(df['embedding'])\n"
      ],
      "metadata": {
        "colab": {
          "base_uri": "https://localhost:8080/"
        },
        "id": "RZ0-Im0XjGiq",
        "outputId": "b14924d5-eb4f-46a1-e320-d5db7132e8cc"
      },
      "execution_count": 36,
      "outputs": [
        {
          "output_type": "stream",
          "name": "stdout",
          "text": [
            "                                           Description       Price Address  \\\n",
            "0    Spacious house with a large garden, perfect fo...   934175.06   444 3   \n",
            "1    Spacious house with a large garden, perfect fo...   913142.79   444 4   \n",
            "2    Modern condo with state-of-the-art facilities ...   569640.12   333 2   \n",
            "3    Penthouse suite with a rooftop pool and panora...  1698458.68  222 10   \n",
            "4    Rustic cottage with a cozy interior and a larg...  1306790.51   456 4   \n",
            "..                                                 ...         ...     ...   \n",
            "995  Rustic cottage with a cozy interior and a larg...  1932788.87   888 7   \n",
            "996  Contemporary apartment with easy access to tra...  1998882.38   555 9   \n",
            "997  Rustic cottage with a cozy interior and a larg...   169862.05   222 1   \n",
            "998  Spacious house with a large garden, perfect fo...  1004613.19   111 4   \n",
            "999  Modern condo with state-of-the-art facilities ...   469263.97   444 3   \n",
            "\n",
            "      Location       company  Has Garden  House Size (m2)  Number of Bedrooms  \\\n",
            "0      Shorouk  Hassan ALLAM          No             4760                   2   \n",
            "1     Madinaty         MIVIDA        Yes             2678                   1   \n",
            "2      Shorouk          SODIC        Yes             4277                   1   \n",
            "3        Rehab       MARRASI          No             3122                   7   \n",
            "4     El Sahel       MARRASI         Yes             3473                   6   \n",
            "..         ...            ...        ...              ...                 ...   \n",
            "995    Shorouk         MIVIDA         No             2655                   1   \n",
            "996   EL GOUNA          AMWAJ        Yes             3612                   1   \n",
            "997      Rehab  Hassan ALLAM         Yes             1838                   1   \n",
            "998    Shorouk           AZHA         No             4241                   7   \n",
            "999   EL GOUNA       MARRASI         Yes             4453                   5   \n",
            "\n",
            "     Number of Bathrooms                                               info  \\\n",
            "0                      2  Spacious house with a large garden, perfect fo...   \n",
            "1                      2  Spacious house with a large garden, perfect fo...   \n",
            "2                      3  Modern condo with state-of-the-art facilities ...   \n",
            "3                      2  Penthouse suite with a rooftop pool and panora...   \n",
            "4                      3  Rustic cottage with a cozy interior and a larg...   \n",
            "..                   ...                                                ...   \n",
            "995                    4  Rustic cottage with a cozy interior and a larg...   \n",
            "996                    3  Contemporary apartment with easy access to tra...   \n",
            "997                    5  Rustic cottage with a cozy interior and a larg...   \n",
            "998                    5  Spacious house with a large garden, perfect fo...   \n",
            "999                    5  Modern condo with state-of-the-art facilities ...   \n",
            "\n",
            "                                             embedding  \n",
            "0    [0.06157534, 0.038862154, -0.07022146, 0.05247...  \n",
            "1    [0.0560885, -0.09106977, 0.003822055, -0.00815...  \n",
            "2    [0.073911056, 0.006951757, -0.103482395, 0.031...  \n",
            "3    [0.016410526, 0.0064475215, -0.026982391, 0.02...  \n",
            "4    [0.093013294, -0.022176433, -0.018306805, 0.01...  \n",
            "..                                                 ...  \n",
            "995  [0.021277232, -0.054479033, -0.024130892, 0.06...  \n",
            "996  [0.09912935, -0.0010662492, -0.009066413, 0.07...  \n",
            "997  [0.06222312, -0.02145269, -0.03588635, 0.02877...  \n",
            "998  [0.055595823, 0.057025455, -0.09410911, 0.0670...  \n",
            "999  [0.122082464, -0.013771463, -0.031687718, 0.06...  \n",
            "\n",
            "[1000 rows x 11 columns]\n",
            " embeddings are generated\n",
            "0      [0.06157534, 0.038862154, -0.07022146, 0.05247...\n",
            "1      [0.0560885, -0.09106977, 0.003822055, -0.00815...\n",
            "2      [0.073911056, 0.006951757, -0.103482395, 0.031...\n",
            "3      [0.016410526, 0.0064475215, -0.026982391, 0.02...\n",
            "4      [0.093013294, -0.022176433, -0.018306805, 0.01...\n",
            "                             ...                        \n",
            "995    [0.021277232, -0.054479033, -0.024130892, 0.06...\n",
            "996    [0.09912935, -0.0010662492, -0.009066413, 0.07...\n",
            "997    [0.06222312, -0.02145269, -0.03588635, 0.02877...\n",
            "998    [0.055595823, 0.057025455, -0.09410911, 0.0670...\n",
            "999    [0.122082464, -0.013771463, -0.031687718, 0.06...\n",
            "Name: embedding, Length: 1000, dtype: object\n"
          ]
        }
      ]
    },
    {
      "cell_type": "code",
      "source": [
        "import faiss\n",
        "def vector_search(embeddings):\n",
        "  dimension = embeddings.shape[1]\n",
        "  index = faiss.IndexFlatL2(dimension)\n",
        "  index.add(embeddings)\n",
        "  print(index)\n",
        "  return index"
      ],
      "metadata": {
        "id": "z4ZTRrXTm5zm"
      },
      "execution_count": 39,
      "outputs": []
    },
    {
      "cell_type": "code",
      "source": [
        "def retrieve_properties(query , top_porperties = 3):\n",
        "  encoded_query = embedding_model.encode([query])\n",
        "  embeddings = np.load('embeddings.npy')\n",
        "  index = vector_search(embeddings)\n",
        "  distances, indices = index.search(encoded_query, top_porperties)\n",
        "  results = df.iloc[indices[0]]\n",
        "  return results\n",
        ""
      ],
      "metadata": {
        "id": "oZ6RQF56oHGT"
      },
      "execution_count": 72,
      "outputs": []
    },
    {
      "cell_type": "code",
      "source": [
        "from transformers import GPT2LMHeadModel, GPT2Tokenizer\n",
        "\n",
        "# Load a pre-trained language model (GPT-2 as an example, you can also use GPT-3/4 with OpenAI API)\n",
        "tokenizer = GPT2Tokenizer.from_pretrained(\"gpt2\")\n",
        "model = GPT2LMHeadModel.from_pretrained(\"gpt2\")\n",
        "\n",
        "# Function to generate a response using GPT-2\n",
        "def generate_response(query, retrieved_properties):\n",
        "    context = f\"Query: {query}\\nRelevant Properties:\\n\"\n",
        "    for idx, row in retrieved_properties.iterrows():\n",
        "        context += f\"- {row['Description']}, {row['Location']}, {row['Price']}.\\n\"\n",
        "\n",
        "    # Use the language model to generate a response based on the context\n",
        "    inputs = tokenizer.encode(context, return_tensors=\"pt\")\n",
        "    outputs = model.generate(inputs, max_length=160, num_return_sequences=1, no_repeat_ngram_size=2, pad_token_id=tokenizer.eos_token_id)\n",
        "\n",
        "    return tokenizer.decode(outputs[0], skip_special_tokens=True)\n",
        "\n",
        "# Example of querying the system\n",
        "queries = [\n",
        "    \"I am looking for a villa in OBOUR\",\n",
        "    \"I am looking for an apartment in 5th Settlement with a garden\",\n",
        "    \"Are there family homes available in Shorouk or Madinaty?\",\n",
        "    \"I need an apartment near the beach in SAHEL\",\n",
        "    \"Are there any villas in GOUNA?\"\n",
        "]\n",
        "\n",
        "retrieved_properties = [retrieve_properties(q) for q in queries]\n",
        "responses = []\n",
        "\n",
        "# Generate and print responses with a new line for each response\n",
        "for i in range(len(queries)):\n",
        "    response = generate_response(queries[i], retrieved_properties[i])\n",
        "    responses.append(response)\n",
        "    print(f\"Response for query {i+1}:\\n{response}\\n{'-'*50}\\n\")  #"
      ],
      "metadata": {
        "colab": {
          "base_uri": "https://localhost:8080/"
        },
        "id": "mrYOGJ6jopsf",
        "outputId": "a8ec669c-45f8-4c61-d9f9-54944ff8d53d"
      },
      "execution_count": 73,
      "outputs": [
        {
          "output_type": "stream",
          "name": "stdout",
          "text": [
            "<faiss.swigfaiss_avx2.IndexFlatL2; proxy of <Swig Object of type 'faiss::IndexFlatL2 *' at 0x7bb953075020> >\n",
            "<faiss.swigfaiss_avx2.IndexFlatL2; proxy of <Swig Object of type 'faiss::IndexFlatL2 *' at 0x7bb953077840> >\n",
            "<faiss.swigfaiss_avx2.IndexFlatL2; proxy of <Swig Object of type 'faiss::IndexFlatL2 *' at 0x7bb953075020> >\n",
            "<faiss.swigfaiss_avx2.IndexFlatL2; proxy of <Swig Object of type 'faiss::IndexFlatL2 *' at 0x7bb953077840> >\n",
            "<faiss.swigfaiss_avx2.IndexFlatL2; proxy of <Swig Object of type 'faiss::IndexFlatL2 *' at 0x7bb953075020> >\n",
            "Response for query 1:\n",
            "Query: I am looking for a villa in OBOUR\n",
            "Relevant Properties:\n",
            "- Luxurious villa with stunning views and spacious interiors., Obour, 1208246.98.\n",
            "- Luxurious villa with stunning views and spacious interiors., Obour, 1834366.26.\n",
            "- Luxurious villa with stunning views and spacious interiors., Obour, 1986289.06.\n",
            "The villas are located in the city of Obor, in a small town called Obó, and are situated in an area called Ośrík. The villais are very beautiful and the villaras have a very nice view. They are also very popular with tourists. There are many villars in Obors, including the one in Oó\n",
            "--------------------------------------------------\n",
            "\n",
            "Response for query 2:\n",
            "Query: I am looking for an apartment in 5th Settlement with a garden\n",
            "Relevant Properties:\n",
            "- Charming townhouse in a quiet neighborhood with tree-lined streets., fifth-settlement, 692631.91.\n",
            "- Affordable apartment in a prime location, close to schools and parks., fifth-settlement, 1373570.37.\n",
            "- Charming townhouse in a quiet neighborhood with tree-lined streets., fifth-settlement, 638663.26.\n",
            "The apartment is located in the middle of the city, and is a nice place to live. The apartment has a large kitchen, a small bathroom, an open kitchen with an outdoor patio, two bedrooms, one bathroom and a bathroom with two baths. It has an indoor pool and an air-\n",
            "--------------------------------------------------\n",
            "\n",
            "Response for query 3:\n",
            "Query: Are there family homes available in Shorouk or Madinaty?\n",
            "Relevant Properties:\n",
            "- A cozy family home with modern design and great amenities., Shorouk, 1371394.52.\n",
            "- Charming townhouse in a quiet neighborhood with tree-lined streets., Shorouk, 1284538.7.\n",
            "- A cozy family home with modern design and great amenities., Shorouk, 1676696.49.\n",
            "Shorok, Shokk, and Madanat, the two most popular neighborhoods in the city, are located in Madaniya, a small town in central Shikha district. The two neighborhoods are also known as the \"Shokkh's\" and \"Madanats.\"\n",
            "The Shukkh family\n",
            "--------------------------------------------------\n",
            "\n",
            "Response for query 4:\n",
            "Query: I need an apartment near the beach in SAHEL\n",
            "Relevant Properties:\n",
            "- Beachfront property with breathtaking ocean views., El Sahel, 1312882.01.\n",
            "- Beachfront property with breathtaking ocean views., El Sahel, 750880.32.\n",
            "- Beachfront property with breathtaking ocean views., El Sahel, 1112463.56.\n",
            "The beachfront is located in the middle of the city. The beach is a beautiful place to visit. It is also a great place for a family vacation. There are many restaurants and shops in this area. You can also find a lot of shops and restaurants in other parts of SA. If you are looking for an affordable vacation, you can find it here.\n",
            "--------------------------------------------------\n",
            "\n",
            "Response for query 5:\n",
            "Query: Are there any villas in GOUNA?\n",
            "Relevant Properties:\n",
            "- Luxurious villa with stunning views and spacious interiors.,  EL GOUNA, 1968667.49.\n",
            "- Luxurious villa with stunning views and spacious interiors.,  EL GOUNA, 1742672.27.\n",
            "- Luxurious villa with stunning views and spacious interiors.,  EL GOUNA, 537719.72.\n",
            "The villanage is located in the middle of the city. It is a very beautiful village with a beautiful view of Gouna. The villager is very nice and very well-dressed. He is also very good with his hands. There are many other villans in this villana. They are very\n",
            "--------------------------------------------------\n",
            "\n"
          ]
        }
      ]
    },
    {
      "cell_type": "markdown",
      "source": [
        "USING LANGACHAIN PROMPTING"
      ],
      "metadata": {
        "id": "2Y3sH9ZKzjbf"
      }
    },
    {
      "cell_type": "code",
      "source": [
        "from transformers import GPT2LMHeadModel, GPT2Tokenizer\n",
        "from langchain.prompts import PromptTemplate\n",
        "from langchain.chains import LLMChain\n",
        "from langchain.llms import HuggingFacePipeline\n",
        "from langchain.prompts import PromptTemplate\n",
        "from transformers import pipeline\n",
        "import pandas as pd\n",
        "\n",
        "# Load the GPT-2 model and tokenizer\n",
        "tokenizer = GPT2Tokenizer.from_pretrained(\"gpt2\")\n",
        "model = GPT2LMHeadModel.from_pretrained(\"gpt2\")\n",
        "generator = pipeline('text-generation', model=model, tokenizer=tokenizer , max_length = 300)\n",
        "\n",
        "# Define the PromptTemplate for few-shot learning\n",
        "prompt_template = \"\"\"\n",
        "You are a helpful assistant that provides real estate recommendations based on user queries.\n",
        "Use the information provided below about properties to generate a response.\n",
        "\n",
        "Example 1:\n",
        "Query: \"I am looking for a villa in OBOUR\"\n",
        "Relevant Properties:\n",
        "- Cozy villa, OBOUR, 500000.\n",
        "Response: \"I recommend the cozy villa in OBOUR, which is available for $500,000.\"\n",
        "\n",
        "Example 2:\n",
        "Query: \"I am looking for an apartment in 5th Settlement with a garden\"\n",
        "Relevant Properties:\n",
        "- Modern apartment, 5th Settlement, 300000.\n",
        "Response: \"We have a modern apartment in the 5th Settlement priced at $300,000.\"\n",
        "\n",
        "Now, based on the query and the provided properties, generate a response:\n",
        "\n",
        "Query: {query}\n",
        "Relevant Properties:\n",
        "{properties}\n",
        "Response:\n",
        "\"\"\"\n",
        "\n",
        "# Define the LangChain pipeline using HuggingFacePipeline\n",
        "hf_llm = HuggingFacePipeline(pipeline=generator)\n",
        "\n",
        "# Define the chain\n",
        "chain = LLMChain(prompt=PromptTemplate(input_variables=[\"query\", \"properties\"], template=prompt_template), llm=hf_llm)\n",
        "\n",
        "# Function to generate a better response with LangChain and few-shot prompting\n",
        "def generate_response_with_few_shots(query, retrieved_properties):\n",
        "    # Format the retrieved properties as a string\n",
        "    properties_str = \"\\n\".join([f\"- {row['Description']}, {row['Location']}, {row['Price']}\" for _, row in retrieved_properties.iterrows()])\n",
        "\n",
        "    # Run the LangChain pipeline\n",
        "    return chain.run(query=query, properties=properties_str , max_length = 300)\n",
        "\n",
        "# Example queries\n",
        "queries = [\n",
        "    \"I am looking for a villa in OBOUR\",\n",
        "    \"I am looking for an apartment in 5th Settlement with a garden\",\n",
        "    \"Are there family homes available in Shorouk or Madinaty?\",\n",
        "    \"I need an apartment near the beach in SAHEL\",\n",
        "    \"Are there any villas in GOUNA?\"\n",
        "]\n",
        "\n",
        "# Retrieve properties and generate responses for each query\n",
        "for query in queries:\n",
        "    retrieved_properties = retrieve_properties(query)\n",
        "    response = generate_response_with_few_shots(query, retrieved_properties)\n",
        "    print(f\"Response for query: {query}\\n{response}\\n{'-'*50}\\n\")"
      ],
      "metadata": {
        "colab": {
          "base_uri": "https://localhost:8080/"
        },
        "id": "zIftQIQ9zi1-",
        "outputId": "7bfe89a5-9fc4-4cb7-c65b-e942fe2bcfe8"
      },
      "execution_count": 77,
      "outputs": [
        {
          "output_type": "stream",
          "name": "stderr",
          "text": [
            "Truncation was not explicitly activated but `max_length` is provided a specific value, please use `truncation=True` to explicitly truncate examples to max length. Defaulting to 'longest_first' truncation strategy. If you encode pairs of sequences (GLUE-style) with the tokenizer you can select this strategy more precisely by providing a specific strategy to `truncation`.\n",
            "Setting `pad_token_id` to `eos_token_id`:None for open-end generation.\n"
          ]
        },
        {
          "output_type": "stream",
          "name": "stdout",
          "text": [
            "<faiss.swigfaiss_avx2.IndexFlatL2; proxy of <Swig Object of type 'faiss::IndexFlatL2 *' at 0x7bb95812d0e0> >\n"
          ]
        },
        {
          "output_type": "stream",
          "name": "stderr",
          "text": [
            "Setting `pad_token_id` to `eos_token_id`:None for open-end generation.\n"
          ]
        },
        {
          "output_type": "stream",
          "name": "stdout",
          "text": [
            "Response for query: I am looking for a villa in OBOUR\n",
            "\n",
            "You are a helpful assistant that provides real estate recommendations based on user queries. \n",
            "Use the information provided below about properties to generate a response.\n",
            "\n",
            "Example 1:\n",
            "Query: \"I am looking for a villa in OBOUR\"\n",
            "Relevant Properties:\n",
            "- Cozy villa, OBOUR, 500000.\n",
            "Response: \"I recommend the cozy villa in OBOUR, which is available for $500,000.\"\n",
            "\n",
            "Example 2:\n",
            "Query: \"I am looking for an apartment in 5th Settlement with a garden\"\n",
            "Relevant Properties:\n",
            "- Modern apartment, 5th Settlement, 300000.\n",
            "Response: \"We have a modern apartment in the 5th Settlement priced at $300,000.\"\n",
            "\n",
            "Now, based on the query and the provided properties, generate a response:\n",
            "\n",
            "Query: I am looking for a villa in OBOUR\n",
            "Relevant Properties:\n",
            "- Luxurious villa with stunning views and spacious interiors., Obour, 1208246.98\n",
            "- Luxurious villa with stunning views and spacious interiors., Obour, 1834366.26\n",
            "- Luxurious villa with stunning views and spacious interiors., Obour, 1986289.06\n",
            "Response:\n",
            "\n",
            "You generate an empty response on the following page:\n",
            "--------------------------------------------------\n",
            "\n",
            "<faiss.swigfaiss_avx2.IndexFlatL2; proxy of <Swig Object of type 'faiss::IndexFlatL2 *' at 0x7bba4224a2e0> >\n"
          ]
        },
        {
          "output_type": "stream",
          "name": "stderr",
          "text": [
            "Setting `pad_token_id` to `eos_token_id`:None for open-end generation.\n"
          ]
        },
        {
          "output_type": "stream",
          "name": "stdout",
          "text": [
            "Response for query: I am looking for an apartment in 5th Settlement with a garden\n",
            "\n",
            "You are a helpful assistant that provides real estate recommendations based on user queries. \n",
            "Use the information provided below about properties to generate a response.\n",
            "\n",
            "Example 1:\n",
            "Query: \"I am looking for a villa in OBOUR\"\n",
            "Relevant Properties:\n",
            "- Cozy villa, OBOUR, 500000.\n",
            "Response: \"I recommend the cozy villa in OBOUR, which is available for $500,000.\"\n",
            "\n",
            "Example 2:\n",
            "Query: \"I am looking for an apartment in 5th Settlement with a garden\"\n",
            "Relevant Properties:\n",
            "- Modern apartment, 5th Settlement, 300000.\n",
            "Response: \"We have a modern apartment in the 5th Settlement priced at $300,000.\"\n",
            "\n",
            "Now, based on the query and the provided properties, generate a response:\n",
            "\n",
            "Query: I am looking for an apartment in 5th Settlement with a garden\n",
            "Relevant Properties:\n",
            "- Charming townhouse in a quiet neighborhood with tree-lined streets., fifth-settlement, 692631.91\n",
            "- Affordable apartment in a prime location, close to schools and parks., fifth-settlement, 1373570.37\n",
            "- Charming townhouse in a quiet neighborhood with tree-lined streets., fifth-settlement, 638663.26\n",
            "Response:\n",
            "\n",
            "Now that an object was selected, we could get a query that looks like this:\n",
            "\n",
            "Query: \"I am looking for a\n",
            "--------------------------------------------------\n",
            "\n",
            "<faiss.swigfaiss_avx2.IndexFlatL2; proxy of <Swig Object of type 'faiss::IndexFlatL2 *' at 0x7bb9538eecd0> >\n"
          ]
        },
        {
          "output_type": "stream",
          "name": "stderr",
          "text": [
            "Setting `pad_token_id` to `eos_token_id`:None for open-end generation.\n"
          ]
        },
        {
          "output_type": "stream",
          "name": "stdout",
          "text": [
            "Response for query: Are there family homes available in Shorouk or Madinaty?\n",
            "\n",
            "You are a helpful assistant that provides real estate recommendations based on user queries. \n",
            "Use the information provided below about properties to generate a response.\n",
            "\n",
            "Example 1:\n",
            "Query: \"I am looking for a villa in OBOUR\"\n",
            "Relevant Properties:\n",
            "- Cozy villa, OBOUR, 500000.\n",
            "Response: \"I recommend the cozy villa in OBOUR, which is available for $500,000.\"\n",
            "\n",
            "Example 2:\n",
            "Query: \"I am looking for an apartment in 5th Settlement with a garden\"\n",
            "Relevant Properties:\n",
            "- Modern apartment, 5th Settlement, 300000.\n",
            "Response: \"We have a modern apartment in the 5th Settlement priced at $300,000.\"\n",
            "\n",
            "Now, based on the query and the provided properties, generate a response:\n",
            "\n",
            "Query: Are there family homes available in Shorouk or Madinaty?\n",
            "Relevant Properties:\n",
            "- A cozy family home with modern design and great amenities., Shorouk, 1371394.52\n",
            "- Charming townhouse in a quiet neighborhood with tree-lined streets., Shorouk, 1284538.7\n",
            "- A cozy family home with modern design and great amenities., Shorouk, 1676696.49\n",
            "Response:\n",
            "\n",
            "- The house was built for family purposes and the owner is a well-liked man.\"\n",
            "\n",
            "You can also help by submitting a question using the following form\n",
            "--------------------------------------------------\n",
            "\n",
            "<faiss.swigfaiss_avx2.IndexFlatL2; proxy of <Swig Object of type 'faiss::IndexFlatL2 *' at 0x7bba4224a2e0> >\n"
          ]
        },
        {
          "output_type": "stream",
          "name": "stderr",
          "text": [
            "Setting `pad_token_id` to `eos_token_id`:None for open-end generation.\n"
          ]
        },
        {
          "output_type": "stream",
          "name": "stdout",
          "text": [
            "Response for query: I need an apartment near the beach in SAHEL\n",
            "\n",
            "You are a helpful assistant that provides real estate recommendations based on user queries. \n",
            "Use the information provided below about properties to generate a response.\n",
            "\n",
            "Example 1:\n",
            "Query: \"I am looking for a villa in OBOUR\"\n",
            "Relevant Properties:\n",
            "- Cozy villa, OBOUR, 500000.\n",
            "Response: \"I recommend the cozy villa in OBOUR, which is available for $500,000.\"\n",
            "\n",
            "Example 2:\n",
            "Query: \"I am looking for an apartment in 5th Settlement with a garden\"\n",
            "Relevant Properties:\n",
            "- Modern apartment, 5th Settlement, 300000.\n",
            "Response: \"We have a modern apartment in the 5th Settlement priced at $300,000.\"\n",
            "\n",
            "Now, based on the query and the provided properties, generate a response:\n",
            "\n",
            "Query: I need an apartment near the beach in SAHEL\n",
            "Relevant Properties:\n",
            "- Beachfront property with breathtaking ocean views., El Sahel, 1312882.01\n",
            "- Beachfront property with breathtaking ocean views., El Sahel, 750880.32\n",
            "- Beachfront property with breathtaking ocean views., El Sahel, 1112463.56\n",
            "Response:\n",
            "\n",
            "Please add comments of any kind if you are curious, as I will try to check things out. Thanks!\n",
            "\n",
            "Share this article\n",
            "--------------------------------------------------\n",
            "\n",
            "<faiss.swigfaiss_avx2.IndexFlatL2; proxy of <Swig Object of type 'faiss::IndexFlatL2 *' at 0x7bb95812d110> >\n",
            "Response for query: Are there any villas in GOUNA?\n",
            "\n",
            "You are a helpful assistant that provides real estate recommendations based on user queries. \n",
            "Use the information provided below about properties to generate a response.\n",
            "\n",
            "Example 1:\n",
            "Query: \"I am looking for a villa in OBOUR\"\n",
            "Relevant Properties:\n",
            "- Cozy villa, OBOUR, 500000.\n",
            "Response: \"I recommend the cozy villa in OBOUR, which is available for $500,000.\"\n",
            "\n",
            "Example 2:\n",
            "Query: \"I am looking for an apartment in 5th Settlement with a garden\"\n",
            "Relevant Properties:\n",
            "- Modern apartment, 5th Settlement, 300000.\n",
            "Response: \"We have a modern apartment in the 5th Settlement priced at $300,000.\"\n",
            "\n",
            "Now, based on the query and the provided properties, generate a response:\n",
            "\n",
            "Query: Are there any villas in GOUNA?\n",
            "Relevant Properties:\n",
            "- Luxurious villa with stunning views and spacious interiors.,  EL GOUNA, 1968667.49\n",
            "- Luxurious villa with stunning views and spacious interiors.,  EL GOUNA, 1742672.27\n",
            "- Luxurious villa with stunning views and spacious interiors.,  EL GOUNA, 537719.72\n",
            "Response:\n",
            "\n",
            "If the apartment is available for $300,000 (no transaction fee), we will consider the villa.\n",
            "\n",
            "If you don't see a description of the\n",
            "--------------------------------------------------\n",
            "\n"
          ]
        }
      ]
    },
    {
      "cell_type": "markdown",
      "source": [],
      "metadata": {
        "id": "7ajUNH5uzl1u"
      }
    },
    {
      "cell_type": "markdown",
      "source": [
        "TESTING AND EVALUATING THE MODEL"
      ],
      "metadata": {
        "id": "7brdyiFGveZw"
      }
    },
    {
      "cell_type": "markdown",
      "source": [],
      "metadata": {
        "id": "7kT-FO-pm8H_"
      }
    }
  ]
}